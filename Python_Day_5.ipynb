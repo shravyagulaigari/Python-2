{
  "nbformat": 4,
  "nbformat_minor": 0,
  "metadata": {
    "colab": {
      "provenance": [],
      "authorship_tag": "ABX9TyNM8ZQEEMlWnqlu5qsBEBYh",
      "include_colab_link": true
    },
    "kernelspec": {
      "name": "python3",
      "display_name": "Python 3"
    },
    "language_info": {
      "name": "python"
    }
  },
  "cells": [
    {
      "cell_type": "markdown",
      "metadata": {
        "id": "view-in-github",
        "colab_type": "text"
      },
      "source": [
        "<a href=\"https://colab.research.google.com/github/shravyagulaigari/Python-2/blob/main/Python_Day_5.ipynb\" target=\"_parent\"><img src=\"https://colab.research.google.com/assets/colab-badge.svg\" alt=\"Open In Colab\"/></a>"
      ]
    },
    {
      "cell_type": "code",
      "execution_count": 1,
      "metadata": {
        "colab": {
          "base_uri": "https://localhost:8080/"
        },
        "id": "nZNXDLY1Gt-P",
        "outputId": "ea1a9dee-7093-4f46-85be-1c218b5ea9bc"
      },
      "outputs": [
        {
          "output_type": "stream",
          "name": "stdout",
          "text": [
            "Mounted at /content/gdrive\n"
          ]
        }
      ],
      "source": [
        "from google.colab import drive\n",
        "drive.mount('/content/gdrive')"
      ]
    },
    {
      "cell_type": "code",
      "source": [
        "import pandas as pd\n",
        "import re\n",
        "\n",
        "ps=pd.read_csv('/content/gdrive/My Drive/CRT_PYTHON_22BK1A7248/Shopping_data.csv')"
      ],
      "metadata": {
        "id": "GM1qAJslGvwF"
      },
      "execution_count": 4,
      "outputs": []
    },
    {
      "cell_type": "code",
      "source": [
        "import pandas as pd\n",
        "import numpy as np\n",
        "import matplotlib.pyplot as plt\n",
        "import seaborn as sns\n",
        "from sklearn.model_selection import train_test_split\n",
        "from sklearn.preprocessing import StandardScaler\n",
        "from sklearn.ensemble import RandomForestClassifier\n",
        "from sklearn.metrics import accuracy_score, confusion_matrix, classification_report\n",
        "\n",
        "# Load data\n",
        "data = ps.copy()\n",
        "\n",
        "# Convert Spending Score to 3 categories: Low, Medium, High\n",
        "data['Spending_Category'] = pd.cut(data['Spending Score (1-100)'],\n",
        "                                   bins=[0, 40, 70, 100],\n",
        "                                   labels=['Low', 'Medium', 'High'])\n",
        "\n",
        "# Use multiple features if available, else only Annual Income\n",
        "features = ['Annual Income (k$)']\n",
        "if 'Age' in data.columns:\n",
        "    features.append('Age')\n",
        "if 'Gender' in data.columns:\n",
        "    # Convert Gender to numeric: Male=0, Female=1\n",
        "    data['Gender'] = data['Gender'].map({'Male': 0, 'Female': 1})\n",
        "    features.append('Gender')\n",
        "\n",
        "X = data[features]\n",
        "y = data['Spending_Category']\n",
        "\n",
        "# Split dataset\n",
        "X_train, X_test, y_train, y_test = train_test_split(X, y, test_size=0.3, random_state=42)\n",
        "\n",
        "# Scale features\n",
        "scaler = StandardScaler()\n",
        "X_train_scaled = scaler.fit_transform(X_train)\n",
        "X_test_scaled = scaler.transform(X_test)\n",
        "\n",
        "# Random Forest with tuned hyperparameters\n",
        "model = RandomForestClassifier(n_estimators=300,\n",
        "                               max_depth=10,\n",
        "                               min_samples_split=5,\n",
        "                               min_samples_leaf=2,\n",
        "                               random_state=42)\n",
        "model.fit(X_train_scaled, y_train)\n",
        "\n",
        "# Predictions\n",
        "y_pred = model.predict(X_test_scaled)\n",
        "\n",
        "# Accuracy & metrics\n",
        "accuracy = accuracy_score(y_test, y_pred)\n",
        "conf_matrix = confusion_matrix(y_test, y_pred)\n",
        "class_report = classification_report(y_test, y_pred)\n",
        "\n",
        "print(f\"Accuracy: {accuracy * 100:.2f}%\")\n",
        "print(\"\\nConfusion Matrix:\\n\", conf_matrix)\n",
        "print(\"\\nClassification Report:\\n\", class_report)\n",
        "\n",
        "# Confusion Matrix Heatmap\n",
        "plt.figure(figsize=(6, 5))\n",
        "sns.heatmap(conf_matrix, annot=True, fmt='d', cmap='Blues',\n",
        "            xticklabels=['Low', 'Medium', 'High'],\n",
        "            yticklabels=['Low', 'Medium', 'High'])\n",
        "plt.title('Confusion Matrix')\n",
        "plt.xlabel('Predicted')\n",
        "plt.ylabel('Actual')\n",
        "plt.show()\n"
      ],
      "metadata": {
        "colab": {
          "base_uri": "https://localhost:8080/",
          "height": 819
        },
        "id": "PTmaVLNdG6H1",
        "outputId": "0c04af0c-db97-4282-c243-6987ef3f0bec"
      },
      "execution_count": 5,
      "outputs": [
        {
          "output_type": "stream",
          "name": "stdout",
          "text": [
            "Accuracy: 85.00%\n",
            "\n",
            "Confusion Matrix:\n",
            " [[10  3  0]\n",
            " [ 3 17  1]\n",
            " [ 2  0 24]]\n",
            "\n",
            "Classification Report:\n",
            "               precision    recall  f1-score   support\n",
            "\n",
            "        High       0.67      0.77      0.71        13\n",
            "         Low       0.85      0.81      0.83        21\n",
            "      Medium       0.96      0.92      0.94        26\n",
            "\n",
            "    accuracy                           0.85        60\n",
            "   macro avg       0.83      0.83      0.83        60\n",
            "weighted avg       0.86      0.85      0.85        60\n",
            "\n"
          ]
        },
        {
          "output_type": "display_data",
          "data": {
            "text/plain": [
              "<Figure size 600x500 with 2 Axes>"
            ],
            "image/png": "[encoded data removed]"
          },
          "metadata": {}
        }
      ]
    }
  ]
}